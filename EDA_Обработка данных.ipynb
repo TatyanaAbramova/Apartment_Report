{
 "cells": [
  {
   "cell_type": "code",
   "execution_count": 23,
   "id": "cf5f586f",
   "metadata": {
    "ExecuteTime": {
     "end_time": "2023-03-04T10:30:27.432636Z",
     "start_time": "2023-03-04T10:30:27.425860Z"
    }
   },
   "outputs": [],
   "source": [
    "import pandas as pd\n",
    "import json\n",
    "import numpy as np\n",
    "import matplotlib.pyplot as plt\n",
    "import seaborn as sns\n",
    "plt.style.use('ggplot')"
   ]
  },
  {
   "cell_type": "code",
   "execution_count": 24,
   "id": "8b055828",
   "metadata": {
    "ExecuteTime": {
     "end_time": "2023-03-04T06:26:58.611641Z",
     "start_time": "2023-03-04T06:26:58.604417Z"
    }
   },
   "outputs": [],
   "source": [
    "def change_empty_to_na(x):\n",
    "    '''\n",
    "    Заменит пустую строку на NaN\n",
    "    '''\n",
    "    if x == '':\n",
    "        return np.nan\n",
    "    else:\n",
    "        return x"
   ]
  },
  {
   "cell_type": "code",
   "execution_count": 25,
   "id": "9b79ae15",
   "metadata": {
    "ExecuteTime": {
     "end_time": "2023-03-03T15:35:36.133011Z",
     "start_time": "2023-03-03T15:35:35.870558Z"
    }
   },
   "outputs": [
    {
     "data": {
      "text/html": [
       "<div>\n",
       "<style scoped>\n",
       "    .dataframe tbody tr th:only-of-type {\n",
       "        vertical-align: middle;\n",
       "    }\n",
       "\n",
       "    .dataframe tbody tr th {\n",
       "        vertical-align: top;\n",
       "    }\n",
       "\n",
       "    .dataframe thead th {\n",
       "        text-align: right;\n",
       "    }\n",
       "</style>\n",
       "<table border=\"1\" class=\"dataframe\">\n",
       "  <thead>\n",
       "    <tr style=\"text-align: right;\">\n",
       "      <th></th>\n",
       "      <th>room_number</th>\n",
       "      <th>district</th>\n",
       "      <th>floor</th>\n",
       "      <th>max_floor</th>\n",
       "      <th>general_area</th>\n",
       "      <th>living_area</th>\n",
       "      <th>kitchen_area</th>\n",
       "      <th>price</th>\n",
       "    </tr>\n",
       "  </thead>\n",
       "  <tbody>\n",
       "    <tr>\n",
       "      <th>0</th>\n",
       "      <td>1</td>\n",
       "      <td>Ленинский</td>\n",
       "      <td>3</td>\n",
       "      <td>5</td>\n",
       "      <td>30.0</td>\n",
       "      <td>18.0</td>\n",
       "      <td>6.0</td>\n",
       "      <td>1780000</td>\n",
       "    </tr>\n",
       "    <tr>\n",
       "      <th>1</th>\n",
       "      <td>1</td>\n",
       "      <td>Правобережный</td>\n",
       "      <td>3</td>\n",
       "      <td>5</td>\n",
       "      <td>31.4</td>\n",
       "      <td>17.0</td>\n",
       "      <td>7.0</td>\n",
       "      <td>2100000</td>\n",
       "    </tr>\n",
       "    <tr>\n",
       "      <th>2</th>\n",
       "      <td>1</td>\n",
       "      <td>Правобережный</td>\n",
       "      <td>3</td>\n",
       "      <td>5</td>\n",
       "      <td>31.4</td>\n",
       "      <td>18.0</td>\n",
       "      <td>6.0</td>\n",
       "      <td>1830000</td>\n",
       "    </tr>\n",
       "    <tr>\n",
       "      <th>3</th>\n",
       "      <td>1</td>\n",
       "      <td>Правобережный</td>\n",
       "      <td>12</td>\n",
       "      <td>14</td>\n",
       "      <td>36.0</td>\n",
       "      <td>0.0</td>\n",
       "      <td>9.0</td>\n",
       "      <td>1610000</td>\n",
       "    </tr>\n",
       "    <tr>\n",
       "      <th>4</th>\n",
       "      <td>1</td>\n",
       "      <td>Ленинский</td>\n",
       "      <td>1</td>\n",
       "      <td>5</td>\n",
       "      <td>32.0</td>\n",
       "      <td>25.0</td>\n",
       "      <td>7.0</td>\n",
       "      <td>1750000</td>\n",
       "    </tr>\n",
       "  </tbody>\n",
       "</table>\n",
       "</div>"
      ],
      "text/plain": [
       "   room_number       district  floor  max_floor  general_area  living_area  \\\n",
       "0            1      Ленинский      3          5          30.0         18.0   \n",
       "1            1  Правобережный      3          5          31.4         17.0   \n",
       "2            1  Правобережный      3          5          31.4         18.0   \n",
       "3            1  Правобережный     12         14          36.0          0.0   \n",
       "4            1      Ленинский      1          5          32.0         25.0   \n",
       "\n",
       "   kitchen_area    price  \n",
       "0           6.0  1780000  \n",
       "1           7.0  2100000  \n",
       "2           6.0  1830000  \n",
       "3           9.0  1610000  \n",
       "4           7.0  1750000  "
      ]
     },
     "execution_count": 25,
     "metadata": {},
     "output_type": "execute_result"
    }
   ],
   "source": [
    "df = pd.read_json('flat_info.txt')\n",
    "df.head()"
   ]
  },
  {
   "cell_type": "code",
   "execution_count": 26,
   "id": "b0e9bcad",
   "metadata": {
    "ExecuteTime": {
     "end_time": "2023-03-03T15:35:43.501770Z",
     "start_time": "2023-03-03T15:35:43.496928Z"
    }
   },
   "outputs": [
    {
     "data": {
      "text/plain": [
       "(1413, 8)"
      ]
     },
     "execution_count": 26,
     "metadata": {},
     "output_type": "execute_result"
    }
   ],
   "source": [
    "# Размер датафрейма\n",
    "df.shape"
   ]
  },
  {
   "cell_type": "code",
   "execution_count": 27,
   "id": "99947470",
   "metadata": {
    "ExecuteTime": {
     "end_time": "2023-03-04T06:27:21.859972Z",
     "start_time": "2023-03-04T06:27:21.850641Z"
    }
   },
   "outputs": [],
   "source": [
    "# Заменяем пропуски на пустые значения\n",
    "df['district'] = df['district'].apply(change_empty_to_na)"
   ]
  },
  {
   "cell_type": "markdown",
   "id": "03aa0b64",
   "metadata": {},
   "source": [
    "# EDA"
   ]
  },
  {
   "cell_type": "code",
   "execution_count": 28,
   "id": "ea02d7af",
   "metadata": {
    "ExecuteTime": {
     "end_time": "2023-03-04T06:27:38.832468Z",
     "start_time": "2023-03-04T06:27:38.792157Z"
    }
   },
   "outputs": [
    {
     "data": {
      "text/html": [
       "<div>\n",
       "<style scoped>\n",
       "    .dataframe tbody tr th:only-of-type {\n",
       "        vertical-align: middle;\n",
       "    }\n",
       "\n",
       "    .dataframe tbody tr th {\n",
       "        vertical-align: top;\n",
       "    }\n",
       "\n",
       "    .dataframe thead th {\n",
       "        text-align: right;\n",
       "    }\n",
       "</style>\n",
       "<table border=\"1\" class=\"dataframe\">\n",
       "  <thead>\n",
       "    <tr style=\"text-align: right;\">\n",
       "      <th></th>\n",
       "      <th>room_number</th>\n",
       "      <th>district</th>\n",
       "      <th>floor</th>\n",
       "      <th>max_floor</th>\n",
       "      <th>general_area</th>\n",
       "      <th>living_area</th>\n",
       "      <th>kitchen_area</th>\n",
       "      <th>price</th>\n",
       "    </tr>\n",
       "  </thead>\n",
       "  <tbody>\n",
       "    <tr>\n",
       "      <th>count</th>\n",
       "      <td>1413.000000</td>\n",
       "      <td>1252</td>\n",
       "      <td>1413.000000</td>\n",
       "      <td>1413.000000</td>\n",
       "      <td>1413.000000</td>\n",
       "      <td>1413.000000</td>\n",
       "      <td>1413.000000</td>\n",
       "      <td>1.413000e+03</td>\n",
       "    </tr>\n",
       "    <tr>\n",
       "      <th>unique</th>\n",
       "      <td>NaN</td>\n",
       "      <td>15</td>\n",
       "      <td>NaN</td>\n",
       "      <td>NaN</td>\n",
       "      <td>NaN</td>\n",
       "      <td>NaN</td>\n",
       "      <td>NaN</td>\n",
       "      <td>NaN</td>\n",
       "    </tr>\n",
       "    <tr>\n",
       "      <th>top</th>\n",
       "      <td>NaN</td>\n",
       "      <td>Ленинский</td>\n",
       "      <td>NaN</td>\n",
       "      <td>NaN</td>\n",
       "      <td>NaN</td>\n",
       "      <td>NaN</td>\n",
       "      <td>NaN</td>\n",
       "      <td>NaN</td>\n",
       "    </tr>\n",
       "    <tr>\n",
       "      <th>freq</th>\n",
       "      <td>NaN</td>\n",
       "      <td>485</td>\n",
       "      <td>NaN</td>\n",
       "      <td>NaN</td>\n",
       "      <td>NaN</td>\n",
       "      <td>NaN</td>\n",
       "      <td>NaN</td>\n",
       "      <td>NaN</td>\n",
       "    </tr>\n",
       "    <tr>\n",
       "      <th>mean</th>\n",
       "      <td>2.026185</td>\n",
       "      <td>NaN</td>\n",
       "      <td>3.645435</td>\n",
       "      <td>6.191791</td>\n",
       "      <td>52.707176</td>\n",
       "      <td>28.070807</td>\n",
       "      <td>8.345018</td>\n",
       "      <td>3.021173e+06</td>\n",
       "    </tr>\n",
       "    <tr>\n",
       "      <th>std</th>\n",
       "      <td>0.742303</td>\n",
       "      <td>NaN</td>\n",
       "      <td>2.549143</td>\n",
       "      <td>3.144651</td>\n",
       "      <td>16.455982</td>\n",
       "      <td>16.829208</td>\n",
       "      <td>3.765011</td>\n",
       "      <td>1.144783e+06</td>\n",
       "    </tr>\n",
       "    <tr>\n",
       "      <th>min</th>\n",
       "      <td>1.000000</td>\n",
       "      <td>NaN</td>\n",
       "      <td>-1.000000</td>\n",
       "      <td>1.000000</td>\n",
       "      <td>16.200000</td>\n",
       "      <td>0.000000</td>\n",
       "      <td>0.000000</td>\n",
       "      <td>2.500000e+05</td>\n",
       "    </tr>\n",
       "    <tr>\n",
       "      <th>25%</th>\n",
       "      <td>2.000000</td>\n",
       "      <td>NaN</td>\n",
       "      <td>2.000000</td>\n",
       "      <td>4.000000</td>\n",
       "      <td>42.500000</td>\n",
       "      <td>18.000000</td>\n",
       "      <td>6.000000</td>\n",
       "      <td>2.200000e+06</td>\n",
       "    </tr>\n",
       "    <tr>\n",
       "      <th>50%</th>\n",
       "      <td>2.000000</td>\n",
       "      <td>NaN</td>\n",
       "      <td>3.000000</td>\n",
       "      <td>5.000000</td>\n",
       "      <td>53.000000</td>\n",
       "      <td>30.000000</td>\n",
       "      <td>8.500000</td>\n",
       "      <td>2.956000e+06</td>\n",
       "    </tr>\n",
       "    <tr>\n",
       "      <th>75%</th>\n",
       "      <td>2.000000</td>\n",
       "      <td>NaN</td>\n",
       "      <td>5.000000</td>\n",
       "      <td>9.000000</td>\n",
       "      <td>62.300000</td>\n",
       "      <td>39.600000</td>\n",
       "      <td>9.000000</td>\n",
       "      <td>3.690000e+06</td>\n",
       "    </tr>\n",
       "    <tr>\n",
       "      <th>max</th>\n",
       "      <td>4.000000</td>\n",
       "      <td>NaN</td>\n",
       "      <td>15.000000</td>\n",
       "      <td>51.000000</td>\n",
       "      <td>160.000000</td>\n",
       "      <td>169.000000</td>\n",
       "      <td>45.000000</td>\n",
       "      <td>1.300000e+07</td>\n",
       "    </tr>\n",
       "  </tbody>\n",
       "</table>\n",
       "</div>"
      ],
      "text/plain": [
       "        room_number   district        floor    max_floor  general_area  \\\n",
       "count   1413.000000       1252  1413.000000  1413.000000   1413.000000   \n",
       "unique          NaN         15          NaN          NaN           NaN   \n",
       "top             NaN  Ленинский          NaN          NaN           NaN   \n",
       "freq            NaN        485          NaN          NaN           NaN   \n",
       "mean       2.026185        NaN     3.645435     6.191791     52.707176   \n",
       "std        0.742303        NaN     2.549143     3.144651     16.455982   \n",
       "min        1.000000        NaN    -1.000000     1.000000     16.200000   \n",
       "25%        2.000000        NaN     2.000000     4.000000     42.500000   \n",
       "50%        2.000000        NaN     3.000000     5.000000     53.000000   \n",
       "75%        2.000000        NaN     5.000000     9.000000     62.300000   \n",
       "max        4.000000        NaN    15.000000    51.000000    160.000000   \n",
       "\n",
       "        living_area  kitchen_area         price  \n",
       "count   1413.000000   1413.000000  1.413000e+03  \n",
       "unique          NaN           NaN           NaN  \n",
       "top             NaN           NaN           NaN  \n",
       "freq            NaN           NaN           NaN  \n",
       "mean      28.070807      8.345018  3.021173e+06  \n",
       "std       16.829208      3.765011  1.144783e+06  \n",
       "min        0.000000      0.000000  2.500000e+05  \n",
       "25%       18.000000      6.000000  2.200000e+06  \n",
       "50%       30.000000      8.500000  2.956000e+06  \n",
       "75%       39.600000      9.000000  3.690000e+06  \n",
       "max      169.000000     45.000000  1.300000e+07  "
      ]
     },
     "execution_count": 28,
     "metadata": {},
     "output_type": "execute_result"
    }
   ],
   "source": [
    "# Обзорная статистика по датафрейму\n",
    "df.describe(include='all')"
   ]
  },
  {
   "attachments": {},
   "cell_type": "markdown",
   "id": "32fd3bc1",
   "metadata": {},
   "source": [
    "**Промежуточные выводы**:\n",
    "- Есть квартира на -1 этаже (1 шт, поэтому ее можно удалить)\n",
    "- Есть много квартир (231 шт) с жилой площадью равной 0\n",
    "- Для 161 домов нет района\n",
    "- Выбросов в данных нет"
   ]
  },
  {
   "cell_type": "code",
   "execution_count": 45,
   "id": "99123a03",
   "metadata": {},
   "outputs": [
    {
     "data": {
      "text/html": [
       "<div>\n",
       "<style scoped>\n",
       "    .dataframe tbody tr th:only-of-type {\n",
       "        vertical-align: middle;\n",
       "    }\n",
       "\n",
       "    .dataframe tbody tr th {\n",
       "        vertical-align: top;\n",
       "    }\n",
       "\n",
       "    .dataframe thead th {\n",
       "        text-align: right;\n",
       "    }\n",
       "</style>\n",
       "<table border=\"1\" class=\"dataframe\">\n",
       "  <thead>\n",
       "    <tr style=\"text-align: right;\">\n",
       "      <th></th>\n",
       "      <th>room_number</th>\n",
       "      <th>floor</th>\n",
       "      <th>max_floor</th>\n",
       "      <th>general_area</th>\n",
       "      <th>living_area</th>\n",
       "      <th>kitchen_area</th>\n",
       "      <th>price</th>\n",
       "      <th>district</th>\n",
       "    </tr>\n",
       "  </thead>\n",
       "  <tbody>\n",
       "    <tr>\n",
       "      <th>3</th>\n",
       "      <td>1</td>\n",
       "      <td>12</td>\n",
       "      <td>14</td>\n",
       "      <td>36.0</td>\n",
       "      <td>0.0</td>\n",
       "      <td>9.0</td>\n",
       "      <td>1610000</td>\n",
       "      <td>Правобережный</td>\n",
       "    </tr>\n",
       "    <tr>\n",
       "      <th>11</th>\n",
       "      <td>1</td>\n",
       "      <td>12</td>\n",
       "      <td>14</td>\n",
       "      <td>36.0</td>\n",
       "      <td>0.0</td>\n",
       "      <td>9.0</td>\n",
       "      <td>1610000</td>\n",
       "      <td>Правобережный</td>\n",
       "    </tr>\n",
       "    <tr>\n",
       "      <th>20</th>\n",
       "      <td>1</td>\n",
       "      <td>9</td>\n",
       "      <td>9</td>\n",
       "      <td>42.0</td>\n",
       "      <td>0.0</td>\n",
       "      <td>9.0</td>\n",
       "      <td>2830000</td>\n",
       "      <td>Орджоникидзевский</td>\n",
       "    </tr>\n",
       "    <tr>\n",
       "      <th>29</th>\n",
       "      <td>1</td>\n",
       "      <td>12</td>\n",
       "      <td>14</td>\n",
       "      <td>36.0</td>\n",
       "      <td>0.0</td>\n",
       "      <td>9.0</td>\n",
       "      <td>1610000</td>\n",
       "      <td>Правобережный</td>\n",
       "    </tr>\n",
       "    <tr>\n",
       "      <th>40</th>\n",
       "      <td>1</td>\n",
       "      <td>12</td>\n",
       "      <td>14</td>\n",
       "      <td>36.0</td>\n",
       "      <td>0.0</td>\n",
       "      <td>9.0</td>\n",
       "      <td>1610000</td>\n",
       "      <td>Правобережный</td>\n",
       "    </tr>\n",
       "    <tr>\n",
       "      <th>...</th>\n",
       "      <td>...</td>\n",
       "      <td>...</td>\n",
       "      <td>...</td>\n",
       "      <td>...</td>\n",
       "      <td>...</td>\n",
       "      <td>...</td>\n",
       "      <td>...</td>\n",
       "      <td>...</td>\n",
       "    </tr>\n",
       "    <tr>\n",
       "      <th>1320</th>\n",
       "      <td>3</td>\n",
       "      <td>1</td>\n",
       "      <td>2</td>\n",
       "      <td>63.4</td>\n",
       "      <td>0.0</td>\n",
       "      <td>0.0</td>\n",
       "      <td>550000</td>\n",
       "      <td>Орджоникидзевский</td>\n",
       "    </tr>\n",
       "    <tr>\n",
       "      <th>1344</th>\n",
       "      <td>3</td>\n",
       "      <td>4</td>\n",
       "      <td>4</td>\n",
       "      <td>78.3</td>\n",
       "      <td>0.0</td>\n",
       "      <td>0.0</td>\n",
       "      <td>4000000</td>\n",
       "      <td>Ленинский</td>\n",
       "    </tr>\n",
       "    <tr>\n",
       "      <th>1353</th>\n",
       "      <td>3</td>\n",
       "      <td>3</td>\n",
       "      <td>3</td>\n",
       "      <td>74.0</td>\n",
       "      <td>0.0</td>\n",
       "      <td>11.1</td>\n",
       "      <td>4300000</td>\n",
       "      <td>Орджоникидзевский</td>\n",
       "    </tr>\n",
       "    <tr>\n",
       "      <th>1355</th>\n",
       "      <td>3</td>\n",
       "      <td>1</td>\n",
       "      <td>3</td>\n",
       "      <td>84.0</td>\n",
       "      <td>0.0</td>\n",
       "      <td>35.5</td>\n",
       "      <td>4560000</td>\n",
       "      <td>Орджоникидзевский</td>\n",
       "    </tr>\n",
       "    <tr>\n",
       "      <th>1370</th>\n",
       "      <td>3</td>\n",
       "      <td>2</td>\n",
       "      <td>3</td>\n",
       "      <td>90.0</td>\n",
       "      <td>0.0</td>\n",
       "      <td>10.0</td>\n",
       "      <td>3800000</td>\n",
       "      <td>Орджоникидзевский</td>\n",
       "    </tr>\n",
       "  </tbody>\n",
       "</table>\n",
       "<p>231 rows × 8 columns</p>\n",
       "</div>"
      ],
      "text/plain": [
       "      room_number  floor  max_floor  general_area  living_area  kitchen_area  \\\n",
       "3               1     12         14          36.0          0.0           9.0   \n",
       "11              1     12         14          36.0          0.0           9.0   \n",
       "20              1      9          9          42.0          0.0           9.0   \n",
       "29              1     12         14          36.0          0.0           9.0   \n",
       "40              1     12         14          36.0          0.0           9.0   \n",
       "...           ...    ...        ...           ...          ...           ...   \n",
       "1320            3      1          2          63.4          0.0           0.0   \n",
       "1344            3      4          4          78.3          0.0           0.0   \n",
       "1353            3      3          3          74.0          0.0          11.1   \n",
       "1355            3      1          3          84.0          0.0          35.5   \n",
       "1370            3      2          3          90.0          0.0          10.0   \n",
       "\n",
       "        price           district  \n",
       "3     1610000      Правобережный  \n",
       "11    1610000      Правобережный  \n",
       "20    2830000  Орджоникидзевский  \n",
       "29    1610000      Правобережный  \n",
       "40    1610000      Правобережный  \n",
       "...       ...                ...  \n",
       "1320   550000  Орджоникидзевский  \n",
       "1344  4000000          Ленинский  \n",
       "1353  4300000  Орджоникидзевский  \n",
       "1355  4560000  Орджоникидзевский  \n",
       "1370  3800000  Орджоникидзевский  \n",
       "\n",
       "[231 rows x 8 columns]"
      ]
     },
     "execution_count": 45,
     "metadata": {},
     "output_type": "execute_result"
    }
   ],
   "source": [
    "df[df[\"living_area\"]==0]"
   ]
  },
  {
   "cell_type": "code",
   "execution_count": 50,
   "id": "4ad60824",
   "metadata": {
    "ExecuteTime": {
     "end_time": "2023-03-04T07:48:50.605187Z",
     "start_time": "2023-03-04T07:48:50.593840Z"
    }
   },
   "outputs": [],
   "source": [
    "# Работаем с микрорайонами, убираем дублирующие микрорайоны\n",
    "def change_district(name):\n",
    "    if name is not np.nan:\n",
    "        name = name.capitalize()\n",
    "        if 'Ленинский' in name:\n",
    "            return 'Ленинский'\n",
    "        elif 'Орджоникидзевский' in name:\n",
    "            return 'Орджоникидзевский'\n",
    "        else:\n",
    "            return name\n",
    "    return name\n",
    "\n",
    "df['clear_district'] = df['district'].apply(change_district)"
   ]
  },
  {
   "cell_type": "code",
   "execution_count": 51,
   "id": "8378fdd8",
   "metadata": {
    "ExecuteTime": {
     "end_time": "2023-03-04T07:54:47.160273Z",
     "start_time": "2023-03-04T07:54:47.030920Z"
    }
   },
   "outputs": [
    {
     "data": {
      "image/png": "[encoded data removed]",
      "text/plain": [
       "<Figure size 1000x1000 with 1 Axes>"
      ]
     },
     "metadata": {},
     "output_type": "display_data"
    }
   ],
   "source": [
    "# Распределение по районам\n",
    "\n",
    "def df_for_pie_chart(x):\n",
    "    if x['percentage'] < 0.02:\n",
    "        return 'Другие'\n",
    "    else:\n",
    "        return x['district']\n",
    "\n",
    "\n",
    "sample = df['clear_district'].value_counts(normalize=True).reset_index()\\\n",
    "    .rename(columns={'index': 'district', 'clear_district': 'percentage'})\n",
    "\n",
    "sample['new_district'] = sample.apply(df_for_pie_chart, axis=1)\n",
    "\n",
    "\n",
    "plt.figure(figsize=(10,10))\n",
    "sample.groupby('new_district')['percentage'].sum().plot.pie(autopct='%1.1f%%');\n",
    "plt.title('Доли квартир в каждом районе');"
   ]
  },
  {
   "cell_type": "code",
   "execution_count": 52,
   "id": "67e038c0",
   "metadata": {
    "ExecuteTime": {
     "end_time": "2023-03-04T08:04:10.292093Z",
     "start_time": "2023-03-04T08:04:10.283681Z"
    }
   },
   "outputs": [
    {
     "data": {
      "text/plain": [
       "11"
      ]
     },
     "execution_count": 52,
     "metadata": {},
     "output_type": "execute_result"
    }
   ],
   "source": [
    "# Определяем число непопулярных районов\n",
    "df[(~df['clear_district'].isin(['Орджоникидзевский', 'Ленинский', 'Правобережный'])) & (~df['clear_district'].isna())].shape[0]"
   ]
  },
  {
   "cell_type": "markdown",
   "id": "bd5b10c6",
   "metadata": {},
   "source": [
    "**Промежуточные выводы:** можно пренебречь квартирами из непопулярных районов"
   ]
  },
  {
   "cell_type": "code",
   "execution_count": 53,
   "id": "eba4ce7a",
   "metadata": {
    "ExecuteTime": {
     "end_time": "2023-03-04T06:33:53.479681Z",
     "start_time": "2023-03-04T06:33:53.331045Z"
    }
   },
   "outputs": [
    {
     "data": {
      "image/png": "[encoded data removed]",
      "text/plain": [
       "<Figure size 640x480 with 1 Axes>"
      ]
     },
     "metadata": {},
     "output_type": "display_data"
    }
   ],
   "source": [
    "# Распределение квартир по количеству комнат\n",
    "plt.title('Распределение квартир по количеству комнат')\n",
    "plt.xlabel('Количество комнат')\n",
    "df['room_number'].hist();"
   ]
  },
  {
   "cell_type": "code",
   "execution_count": 54,
   "id": "4361907c",
   "metadata": {
    "ExecuteTime": {
     "end_time": "2023-03-04T06:34:45.815350Z",
     "start_time": "2023-03-04T06:34:45.677392Z"
    }
   },
   "outputs": [
    {
     "data": {
      "image/png": "[encoded data removed]",
      "text/plain": [
       "<Figure size 640x480 with 1 Axes>"
      ]
     },
     "metadata": {},
     "output_type": "display_data"
    }
   ],
   "source": [
    "plt.title('Распределение этажей квартир')\n",
    "plt.xlabel('Этаж')\n",
    "df['floor'].hist();"
   ]
  },
  {
   "cell_type": "code",
   "execution_count": 34,
   "id": "87aa2384",
   "metadata": {
    "ExecuteTime": {
     "end_time": "2023-03-04T06:44:41.654196Z",
     "start_time": "2023-03-04T06:44:41.296070Z"
    }
   },
   "outputs": [
    {
     "data": {
      "image/png": "[encoded data removed]",
      "text/plain": [
       "<Figure size 3000x1000 with 3 Axes>"
      ]
     },
     "metadata": {},
     "output_type": "display_data"
    }
   ],
   "source": [
    "plt.figure(figsize=(30, 10))\n",
    "plt.title \n",
    "plt.subplot(131)\n",
    "plt.title('Распределение общей площади')\n",
    "plt.xlabel('Площадь')\n",
    "df['general_area'].hist();\n",
    "\n",
    "plt.subplot(132)\n",
    "plt.title('Распределение жилой площади')\n",
    "plt.xlabel('Площадь')\n",
    "df['living_area'].hist();\n",
    "\n",
    "plt.subplot(133)\n",
    "plt.title('Распределение площади кухни')\n",
    "plt.xlabel('Площадь')\n",
    "df['kitchen_area'].hist();"
   ]
  },
  {
   "cell_type": "markdown",
   "id": "340aca39",
   "metadata": {},
   "source": [
    "**Промежуточные выводы:**\n",
    "данные распределены ненормально, присутсвует \"хвост\" в правую сторону"
   ]
  },
  {
   "cell_type": "code",
   "execution_count": 35,
   "id": "57af1732",
   "metadata": {
    "ExecuteTime": {
     "end_time": "2023-03-04T06:46:56.566685Z",
     "start_time": "2023-03-04T06:46:56.427219Z"
    }
   },
   "outputs": [
    {
     "data": {
      "image/png": "[encoded data removed]",
      "text/plain": [
       "<Figure size 640x480 with 1 Axes>"
      ]
     },
     "metadata": {},
     "output_type": "display_data"
    }
   ],
   "source": [
    "plt.title('Распределение цены квартир')\n",
    "plt.xlabel('Цена')\n",
    "df['price'].hist();"
   ]
  },
  {
   "cell_type": "markdown",
   "id": "edc63c46",
   "metadata": {},
   "source": [
    "**Промежуточные выводы:** в основном цена квартир от 2 млн до 4 млн, однако присутсвуют отклонения в большую сторону\""
   ]
  },
  {
   "cell_type": "code",
   "execution_count": null,
   "id": "08f6c29d",
   "metadata": {},
   "outputs": [],
   "source": []
  },
  {
   "cell_type": "code",
   "execution_count": 46,
   "id": "f441a24b",
   "metadata": {
    "ExecuteTime": {
     "end_time": "2023-03-04T06:49:30.372828Z",
     "start_time": "2023-03-04T06:49:30.346452Z"
    }
   },
   "outputs": [
    {
     "data": {
      "text/html": [
       "<div>\n",
       "<style scoped>\n",
       "    .dataframe tbody tr th:only-of-type {\n",
       "        vertical-align: middle;\n",
       "    }\n",
       "\n",
       "    .dataframe tbody tr th {\n",
       "        vertical-align: top;\n",
       "    }\n",
       "\n",
       "    .dataframe thead th {\n",
       "        text-align: right;\n",
       "    }\n",
       "</style>\n",
       "<table border=\"1\" class=\"dataframe\">\n",
       "  <thead>\n",
       "    <tr style=\"text-align: right;\">\n",
       "      <th></th>\n",
       "      <th>room_number</th>\n",
       "      <th>floor</th>\n",
       "      <th>max_floor</th>\n",
       "      <th>general_area</th>\n",
       "      <th>living_area</th>\n",
       "      <th>kitchen_area</th>\n",
       "      <th>price</th>\n",
       "      <th>district</th>\n",
       "    </tr>\n",
       "  </thead>\n",
       "  <tbody>\n",
       "    <tr>\n",
       "      <th>1241</th>\n",
       "      <td>3</td>\n",
       "      <td>6</td>\n",
       "      <td>10</td>\n",
       "      <td>110.0</td>\n",
       "      <td>75.0</td>\n",
       "      <td>17.0</td>\n",
       "      <td>13000000</td>\n",
       "      <td>Орджоникидзевский</td>\n",
       "    </tr>\n",
       "    <tr>\n",
       "      <th>1287</th>\n",
       "      <td>3</td>\n",
       "      <td>15</td>\n",
       "      <td>16</td>\n",
       "      <td>127.0</td>\n",
       "      <td>85.0</td>\n",
       "      <td>17.0</td>\n",
       "      <td>9200000</td>\n",
       "      <td>Правобережный</td>\n",
       "    </tr>\n",
       "    <tr>\n",
       "      <th>1311</th>\n",
       "      <td>3</td>\n",
       "      <td>5</td>\n",
       "      <td>14</td>\n",
       "      <td>133.0</td>\n",
       "      <td>75.0</td>\n",
       "      <td>20.0</td>\n",
       "      <td>8600000</td>\n",
       "      <td>Орджоникидзевский</td>\n",
       "    </tr>\n",
       "    <tr>\n",
       "      <th>1388</th>\n",
       "      <td>4</td>\n",
       "      <td>4</td>\n",
       "      <td>4</td>\n",
       "      <td>136.0</td>\n",
       "      <td>80.0</td>\n",
       "      <td>12.0</td>\n",
       "      <td>8100000</td>\n",
       "      <td>Ленинский</td>\n",
       "    </tr>\n",
       "    <tr>\n",
       "      <th>1395</th>\n",
       "      <td>4</td>\n",
       "      <td>2</td>\n",
       "      <td>5</td>\n",
       "      <td>138.0</td>\n",
       "      <td>100.0</td>\n",
       "      <td>27.0</td>\n",
       "      <td>8450000</td>\n",
       "      <td>Ленинский</td>\n",
       "    </tr>\n",
       "    <tr>\n",
       "      <th>1407</th>\n",
       "      <td>4</td>\n",
       "      <td>2</td>\n",
       "      <td>2</td>\n",
       "      <td>148.2</td>\n",
       "      <td>95.0</td>\n",
       "      <td>25.0</td>\n",
       "      <td>9500000</td>\n",
       "      <td>Орджоникидзевский</td>\n",
       "    </tr>\n",
       "    <tr>\n",
       "      <th>1409</th>\n",
       "      <td>4</td>\n",
       "      <td>3</td>\n",
       "      <td>4</td>\n",
       "      <td>127.0</td>\n",
       "      <td>70.0</td>\n",
       "      <td>28.0</td>\n",
       "      <td>8900000</td>\n",
       "      <td>Ленинский</td>\n",
       "    </tr>\n",
       "    <tr>\n",
       "      <th>1410</th>\n",
       "      <td>4</td>\n",
       "      <td>15</td>\n",
       "      <td>16</td>\n",
       "      <td>160.0</td>\n",
       "      <td>120.0</td>\n",
       "      <td>15.0</td>\n",
       "      <td>8490000</td>\n",
       "      <td>Правобережный</td>\n",
       "    </tr>\n",
       "  </tbody>\n",
       "</table>\n",
       "</div>"
      ],
      "text/plain": [
       "      room_number  floor  max_floor  general_area  living_area  kitchen_area  \\\n",
       "1241            3      6         10         110.0         75.0          17.0   \n",
       "1287            3     15         16         127.0         85.0          17.0   \n",
       "1311            3      5         14         133.0         75.0          20.0   \n",
       "1388            4      4          4         136.0         80.0          12.0   \n",
       "1395            4      2          5         138.0        100.0          27.0   \n",
       "1407            4      2          2         148.2         95.0          25.0   \n",
       "1409            4      3          4         127.0         70.0          28.0   \n",
       "1410            4     15         16         160.0        120.0          15.0   \n",
       "\n",
       "         price           district  \n",
       "1241  13000000  Орджоникидзевский  \n",
       "1287   9200000      Правобережный  \n",
       "1311   8600000  Орджоникидзевский  \n",
       "1388   8100000          Ленинский  \n",
       "1395   8450000          Ленинский  \n",
       "1407   9500000  Орджоникидзевский  \n",
       "1409   8900000          Ленинский  \n",
       "1410   8490000      Правобережный  "
      ]
     },
     "execution_count": 46,
     "metadata": {},
     "output_type": "execute_result"
    }
   ],
   "source": [
    "# Внимательно смотрим на квартиры с большой ценой\n",
    "df[df['price'] > 8000000]"
   ]
  },
  {
   "cell_type": "markdown",
   "id": "7d47b706",
   "metadata": {},
   "source": [
    "Это как раз те квартиры, которые находяться в правом хвосте распределений"
   ]
  },
  {
   "cell_type": "code",
   "execution_count": 47,
   "id": "aa438036",
   "metadata": {
    "ExecuteTime": {
     "end_time": "2023-03-04T06:54:31.172784Z",
     "start_time": "2023-03-04T06:54:30.977278Z"
    }
   },
   "outputs": [
    {
     "name": "stderr",
     "output_type": "stream",
     "text": [
      "C:\\Users\\Татьяна\\AppData\\Local\\Temp\\ipykernel_8376\\969595884.py:3: FutureWarning: The default value of numeric_only in DataFrame.corr is deprecated. In a future version, it will default to False. Select only valid columns or specify the value of numeric_only to silence this warning.\n",
      "  sns.heatmap(df.corr());\n"
     ]
    },
    {
     "data": {
      "image/png": "[encoded data removed]",
      "text/plain": [
       "<Figure size 1000x1000 with 2 Axes>"
      ]
     },
     "metadata": {},
     "output_type": "display_data"
    }
   ],
   "source": [
    "# Строим тепловую карту корреляций\n",
    "plt.figure(figsize=(10,10));\n",
    "sns.heatmap(df.corr());\n",
    "plt.title('Тепловая карта корреляций');"
   ]
  },
  {
   "cell_type": "markdown",
   "id": "cec19936",
   "metadata": {},
   "source": [
    "**Промежуточные выводы:** самая сильная корреляция с ценой возникает у общей площади, дальше идет количество комнат и жилая площадь"
   ]
  },
  {
   "cell_type": "markdown",
   "id": "21c658c0",
   "metadata": {},
   "source": [
    "# Обработка данных\n",
    "\n",
    "Заполняем пропуски в данных. Для этого определяем популярный район для каждого типа квартиры"
   ]
  },
  {
   "cell_type": "code",
   "execution_count": 55,
   "id": "4eb6084b",
   "metadata": {
    "ExecuteTime": {
     "end_time": "2023-03-04T10:28:57.415714Z",
     "start_time": "2023-03-04T10:28:57.399757Z"
    }
   },
   "outputs": [
    {
     "name": "stderr",
     "output_type": "stream",
     "text": [
      "C:\\Users\\Татьяна\\AppData\\Local\\Temp\\ipykernel_8376\\1155948804.py:1: FutureWarning: Using short name for 'orient' is deprecated. Only the options: ('dict', list, 'series', 'split', 'records', 'index') will be used in a future version. Use one of the above to silence this warning.\n",
      "  churn_dict = df.groupby('room_number')['clear_district'].agg(pd.Series.mode).reset_index().to_dict(orient='record')\n"
     ]
    },
    {
     "data": {
      "text/plain": [
       "{1: 'Ленинский',\n",
       " 2: 'Ленинский',\n",
       " 3: 'Орджоникидзевский',\n",
       " 4: 'Орджоникидзевский'}"
      ]
     },
     "execution_count": 55,
     "metadata": {},
     "output_type": "execute_result"
    }
   ],
   "source": [
    "churn_dict = df.groupby('room_number')['clear_district'].agg(pd.Series.mode).reset_index().to_dict(orient='record')\n",
    "room_number_to_common_district = {x['room_number']: x['clear_district'] for x in churn_dict}\n",
    "room_number_to_common_district"
   ]
  },
  {
   "cell_type": "code",
   "execution_count": 57,
   "id": "bb833903",
   "metadata": {
    "ExecuteTime": {
     "end_time": "2023-03-04T10:30:54.690759Z",
     "start_time": "2023-03-04T10:30:54.678012Z"
    }
   },
   "outputs": [],
   "source": [
    "# Сохраняем, чтобы в дальнейшем можно было заполнять ими пропуски\n",
    "with open('room_number_to_common_district.txt', 'w', encoding=\"utf8\") as f:\n",
    "    json.dump(room_number_to_common_district, f, ensure_ascii=False)"
   ]
  },
  {
   "cell_type": "code",
   "execution_count": 58,
   "id": "ca75bc3f",
   "metadata": {
    "ExecuteTime": {
     "end_time": "2023-03-04T10:29:30.085950Z",
     "start_time": "2023-03-04T10:29:30.081852Z"
    }
   },
   "outputs": [],
   "source": [
    "def fill_na_values(x):\n",
    "    '''\n",
    "    Заполняет пропуски самым популярным районом для каждого типа квартиры \n",
    "    '''\n",
    "    if x['clear_district'] is np.nan:\n",
    "        common_district = room_number_to_common_district[x['room_number']]\n",
    "        return common_district\n",
    "    else:\n",
    "        return x['clear_district']"
   ]
  },
  {
   "cell_type": "code",
   "execution_count": 59,
   "id": "a4407262",
   "metadata": {
    "ExecuteTime": {
     "end_time": "2023-03-04T10:29:30.552803Z",
     "start_time": "2023-03-04T10:29:30.518942Z"
    }
   },
   "outputs": [],
   "source": [
    "df['clear_district_wo_na'] = df.apply(fill_na_values, axis=1)"
   ]
  },
  {
   "cell_type": "code",
   "execution_count": 60,
   "id": "0de91802",
   "metadata": {
    "ExecuteTime": {
     "end_time": "2023-03-04T10:33:43.432982Z",
     "start_time": "2023-03-04T10:33:43.426265Z"
    }
   },
   "outputs": [],
   "source": [
    "# Удаляем лишние столбцы и переименовываем\n",
    "df.drop(columns=['district', 'clear_district'], inplace=True)\n",
    "df.rename(columns={'clear_district_wo_na': 'district'}, inplace=True)"
   ]
  },
  {
   "cell_type": "code",
   "execution_count": 61,
   "id": "db475b59",
   "metadata": {
    "ExecuteTime": {
     "end_time": "2023-03-04T10:36:47.460043Z",
     "start_time": "2023-03-04T10:36:47.436443Z"
    }
   },
   "outputs": [
    {
     "data": {
      "text/html": [
       "<div>\n",
       "<style scoped>\n",
       "    .dataframe tbody tr th:only-of-type {\n",
       "        vertical-align: middle;\n",
       "    }\n",
       "\n",
       "    .dataframe tbody tr th {\n",
       "        vertical-align: top;\n",
       "    }\n",
       "\n",
       "    .dataframe thead th {\n",
       "        text-align: right;\n",
       "    }\n",
       "</style>\n",
       "<table border=\"1\" class=\"dataframe\">\n",
       "  <thead>\n",
       "    <tr style=\"text-align: right;\">\n",
       "      <th></th>\n",
       "      <th>room_number</th>\n",
       "      <th>floor</th>\n",
       "      <th>max_floor</th>\n",
       "      <th>general_area</th>\n",
       "      <th>living_area</th>\n",
       "      <th>kitchen_area</th>\n",
       "      <th>price</th>\n",
       "      <th>district</th>\n",
       "    </tr>\n",
       "  </thead>\n",
       "  <tbody>\n",
       "    <tr>\n",
       "      <th>0</th>\n",
       "      <td>1</td>\n",
       "      <td>3</td>\n",
       "      <td>5</td>\n",
       "      <td>30.0</td>\n",
       "      <td>18.0</td>\n",
       "      <td>6.0</td>\n",
       "      <td>1780000</td>\n",
       "      <td>Ленинский</td>\n",
       "    </tr>\n",
       "    <tr>\n",
       "      <th>1</th>\n",
       "      <td>1</td>\n",
       "      <td>3</td>\n",
       "      <td>5</td>\n",
       "      <td>31.4</td>\n",
       "      <td>17.0</td>\n",
       "      <td>7.0</td>\n",
       "      <td>2100000</td>\n",
       "      <td>Правобережный</td>\n",
       "    </tr>\n",
       "    <tr>\n",
       "      <th>2</th>\n",
       "      <td>1</td>\n",
       "      <td>3</td>\n",
       "      <td>5</td>\n",
       "      <td>31.4</td>\n",
       "      <td>18.0</td>\n",
       "      <td>6.0</td>\n",
       "      <td>1830000</td>\n",
       "      <td>Правобережный</td>\n",
       "    </tr>\n",
       "    <tr>\n",
       "      <th>3</th>\n",
       "      <td>1</td>\n",
       "      <td>12</td>\n",
       "      <td>14</td>\n",
       "      <td>36.0</td>\n",
       "      <td>0.0</td>\n",
       "      <td>9.0</td>\n",
       "      <td>1610000</td>\n",
       "      <td>Правобережный</td>\n",
       "    </tr>\n",
       "    <tr>\n",
       "      <th>4</th>\n",
       "      <td>1</td>\n",
       "      <td>1</td>\n",
       "      <td>5</td>\n",
       "      <td>32.0</td>\n",
       "      <td>25.0</td>\n",
       "      <td>7.0</td>\n",
       "      <td>1750000</td>\n",
       "      <td>Ленинский</td>\n",
       "    </tr>\n",
       "  </tbody>\n",
       "</table>\n",
       "</div>"
      ],
      "text/plain": [
       "   room_number  floor  max_floor  general_area  living_area  kitchen_area  \\\n",
       "0            1      3          5          30.0         18.0           6.0   \n",
       "1            1      3          5          31.4         17.0           7.0   \n",
       "2            1      3          5          31.4         18.0           6.0   \n",
       "3            1     12         14          36.0          0.0           9.0   \n",
       "4            1      1          5          32.0         25.0           7.0   \n",
       "\n",
       "     price       district  \n",
       "0  1780000      Ленинский  \n",
       "1  2100000  Правобережный  \n",
       "2  1830000  Правобережный  \n",
       "3  1610000  Правобережный  \n",
       "4  1750000      Ленинский  "
      ]
     },
     "execution_count": 61,
     "metadata": {},
     "output_type": "execute_result"
    }
   ],
   "source": [
    "# Удаляем лишние строчки в датафрейме и сохраняем обработанный результат\n",
    "result_df = df[(df['district'].isin(['Орджоникидзевский', 'Ленинский', 'Правобережный'])) & (df['floor'] > 0)]\n",
    "result_df.head()"
   ]
  },
  {
   "cell_type": "code",
   "execution_count": 62,
   "id": "962a5302",
   "metadata": {
    "ExecuteTime": {
     "end_time": "2023-03-04T10:39:07.171000Z",
     "start_time": "2023-03-04T10:39:07.159908Z"
    }
   },
   "outputs": [],
   "source": [
    "result_df.to_json('clear_data.txt', orient='records', force_ascii=False)"
   ]
  },
  {
   "cell_type": "code",
   "execution_count": null,
   "id": "93e11837",
   "metadata": {},
   "outputs": [],
   "source": []
  }
 ],
 "metadata": {
  "kernelspec": {
   "display_name": "Python 3",
   "language": "python",
   "name": "python3"
  },
  "language_info": {
   "codemirror_mode": {
    "name": "ipython",
    "version": 3
   },
   "file_extension": ".py",
   "mimetype": "text/x-python",
   "name": "python",
   "nbconvert_exporter": "python",
   "pygments_lexer": "ipython3",
   "version": "3.11.2"
  },
  "toc": {
   "base_numbering": 1,
   "nav_menu": {},
   "number_sections": true,
   "sideBar": true,
   "skip_h1_title": false,
   "title_cell": "Table of Contents",
   "title_sidebar": "Contents",
   "toc_cell": false,
   "toc_position": {},
   "toc_section_display": true,
   "toc_window_display": false
  }
 },
 "nbformat": 4,
 "nbformat_minor": 5
}
