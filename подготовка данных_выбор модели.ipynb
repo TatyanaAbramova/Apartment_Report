{
 "cells": [
  {
   "cell_type": "code",
   "execution_count": 2,
   "id": "288a0a33",
   "metadata": {
    "ExecuteTime": {
     "end_time": "2023-03-04T11:11:04.485405Z",
     "start_time": "2023-03-04T11:11:04.473268Z"
    }
   },
   "outputs": [],
   "source": [
    "import pandas as pd\n",
    "import numpy as np\n",
    "\n",
    "from sklearn.model_selection import train_test_split, GridSearchCV\n",
    "from sklearn.preprocessing import StandardScaler\n",
    "from sklearn.ensemble import RandomForestRegressor, GradientBoostingRegressor\n",
    "from sklearn.linear_model import SGDRegressor, Ridge\n",
    "from sklearn.metrics import mean_absolute_error, mean_absolute_percentage_error, mean_squared_error\n",
    "\n",
    "import warnings\n",
    "warnings.filterwarnings('ignore')"
   ]
  },
  {
   "cell_type": "code",
   "execution_count": 3,
   "id": "26ef2b66",
   "metadata": {
    "ExecuteTime": {
     "end_time": "2023-03-04T16:39:31.166318Z",
     "start_time": "2023-03-04T16:39:31.142014Z"
    }
   },
   "outputs": [
    {
     "data": {
      "text/html": [
       "<div>\n",
       "<style scoped>\n",
       "    .dataframe tbody tr th:only-of-type {\n",
       "        vertical-align: middle;\n",
       "    }\n",
       "\n",
       "    .dataframe tbody tr th {\n",
       "        vertical-align: top;\n",
       "    }\n",
       "\n",
       "    .dataframe thead th {\n",
       "        text-align: right;\n",
       "    }\n",
       "</style>\n",
       "<table border=\"1\" class=\"dataframe\">\n",
       "  <thead>\n",
       "    <tr style=\"text-align: right;\">\n",
       "      <th></th>\n",
       "      <th>room_number</th>\n",
       "      <th>floor</th>\n",
       "      <th>max_floor</th>\n",
       "      <th>general_area</th>\n",
       "      <th>living_area</th>\n",
       "      <th>kitchen_area</th>\n",
       "      <th>price</th>\n",
       "      <th>district</th>\n",
       "    </tr>\n",
       "  </thead>\n",
       "  <tbody>\n",
       "    <tr>\n",
       "      <th>0</th>\n",
       "      <td>1</td>\n",
       "      <td>3</td>\n",
       "      <td>5</td>\n",
       "      <td>30.0</td>\n",
       "      <td>18.0</td>\n",
       "      <td>6.0</td>\n",
       "      <td>1780000</td>\n",
       "      <td>Ленинский</td>\n",
       "    </tr>\n",
       "    <tr>\n",
       "      <th>1</th>\n",
       "      <td>1</td>\n",
       "      <td>3</td>\n",
       "      <td>5</td>\n",
       "      <td>31.4</td>\n",
       "      <td>17.0</td>\n",
       "      <td>7.0</td>\n",
       "      <td>2100000</td>\n",
       "      <td>Правобережный</td>\n",
       "    </tr>\n",
       "    <tr>\n",
       "      <th>2</th>\n",
       "      <td>1</td>\n",
       "      <td>3</td>\n",
       "      <td>5</td>\n",
       "      <td>31.4</td>\n",
       "      <td>18.0</td>\n",
       "      <td>6.0</td>\n",
       "      <td>1830000</td>\n",
       "      <td>Правобережный</td>\n",
       "    </tr>\n",
       "    <tr>\n",
       "      <th>3</th>\n",
       "      <td>1</td>\n",
       "      <td>12</td>\n",
       "      <td>14</td>\n",
       "      <td>36.0</td>\n",
       "      <td>0.0</td>\n",
       "      <td>9.0</td>\n",
       "      <td>1610000</td>\n",
       "      <td>Правобережный</td>\n",
       "    </tr>\n",
       "    <tr>\n",
       "      <th>4</th>\n",
       "      <td>1</td>\n",
       "      <td>1</td>\n",
       "      <td>5</td>\n",
       "      <td>32.0</td>\n",
       "      <td>25.0</td>\n",
       "      <td>7.0</td>\n",
       "      <td>1750000</td>\n",
       "      <td>Ленинский</td>\n",
       "    </tr>\n",
       "  </tbody>\n",
       "</table>\n",
       "</div>"
      ],
      "text/plain": [
       "   room_number  floor  max_floor  general_area  living_area  kitchen_area  \\\n",
       "0            1      3          5          30.0         18.0           6.0   \n",
       "1            1      3          5          31.4         17.0           7.0   \n",
       "2            1      3          5          31.4         18.0           6.0   \n",
       "3            1     12         14          36.0          0.0           9.0   \n",
       "4            1      1          5          32.0         25.0           7.0   \n",
       "\n",
       "     price       district  \n",
       "0  1780000      Ленинский  \n",
       "1  2100000  Правобережный  \n",
       "2  1830000  Правобережный  \n",
       "3  1610000  Правобережный  \n",
       "4  1750000      Ленинский  "
      ]
     },
     "execution_count": 3,
     "metadata": {},
     "output_type": "execute_result"
    }
   ],
   "source": [
    "df = pd.read_json('clear_data.txt')\n",
    "df.head()"
   ]
  },
  {
   "cell_type": "markdown",
   "id": "6361da77",
   "metadata": {},
   "source": [
    "# Подготовка данных"
   ]
  },
  {
   "cell_type": "code",
   "execution_count": 4,
   "id": "63e0eed6",
   "metadata": {
    "ExecuteTime": {
     "end_time": "2023-03-04T10:43:58.245601Z",
     "start_time": "2023-03-04T10:43:58.216732Z"
    }
   },
   "outputs": [
    {
     "data": {
      "text/html": [
       "<div>\n",
       "<style scoped>\n",
       "    .dataframe tbody tr th:only-of-type {\n",
       "        vertical-align: middle;\n",
       "    }\n",
       "\n",
       "    .dataframe tbody tr th {\n",
       "        vertical-align: top;\n",
       "    }\n",
       "\n",
       "    .dataframe thead th {\n",
       "        text-align: right;\n",
       "    }\n",
       "</style>\n",
       "<table border=\"1\" class=\"dataframe\">\n",
       "  <thead>\n",
       "    <tr style=\"text-align: right;\">\n",
       "      <th></th>\n",
       "      <th>room_number</th>\n",
       "      <th>floor</th>\n",
       "      <th>max_floor</th>\n",
       "      <th>general_area</th>\n",
       "      <th>living_area</th>\n",
       "      <th>kitchen_area</th>\n",
       "      <th>price</th>\n",
       "      <th>Ленинский</th>\n",
       "      <th>Орджоникидзевский</th>\n",
       "      <th>Правобережный</th>\n",
       "    </tr>\n",
       "  </thead>\n",
       "  <tbody>\n",
       "    <tr>\n",
       "      <th>0</th>\n",
       "      <td>1</td>\n",
       "      <td>3</td>\n",
       "      <td>5</td>\n",
       "      <td>30.0</td>\n",
       "      <td>18.0</td>\n",
       "      <td>6.0</td>\n",
       "      <td>1780000</td>\n",
       "      <td>1</td>\n",
       "      <td>0</td>\n",
       "      <td>0</td>\n",
       "    </tr>\n",
       "    <tr>\n",
       "      <th>1</th>\n",
       "      <td>1</td>\n",
       "      <td>3</td>\n",
       "      <td>5</td>\n",
       "      <td>31.4</td>\n",
       "      <td>17.0</td>\n",
       "      <td>7.0</td>\n",
       "      <td>2100000</td>\n",
       "      <td>0</td>\n",
       "      <td>0</td>\n",
       "      <td>1</td>\n",
       "    </tr>\n",
       "    <tr>\n",
       "      <th>2</th>\n",
       "      <td>1</td>\n",
       "      <td>3</td>\n",
       "      <td>5</td>\n",
       "      <td>31.4</td>\n",
       "      <td>18.0</td>\n",
       "      <td>6.0</td>\n",
       "      <td>1830000</td>\n",
       "      <td>0</td>\n",
       "      <td>0</td>\n",
       "      <td>1</td>\n",
       "    </tr>\n",
       "    <tr>\n",
       "      <th>3</th>\n",
       "      <td>1</td>\n",
       "      <td>12</td>\n",
       "      <td>14</td>\n",
       "      <td>36.0</td>\n",
       "      <td>0.0</td>\n",
       "      <td>9.0</td>\n",
       "      <td>1610000</td>\n",
       "      <td>0</td>\n",
       "      <td>0</td>\n",
       "      <td>1</td>\n",
       "    </tr>\n",
       "    <tr>\n",
       "      <th>4</th>\n",
       "      <td>1</td>\n",
       "      <td>1</td>\n",
       "      <td>5</td>\n",
       "      <td>32.0</td>\n",
       "      <td>25.0</td>\n",
       "      <td>7.0</td>\n",
       "      <td>1750000</td>\n",
       "      <td>1</td>\n",
       "      <td>0</td>\n",
       "      <td>0</td>\n",
       "    </tr>\n",
       "  </tbody>\n",
       "</table>\n",
       "</div>"
      ],
      "text/plain": [
       "   room_number  floor  max_floor  general_area  living_area  kitchen_area  \\\n",
       "0            1      3          5          30.0         18.0           6.0   \n",
       "1            1      3          5          31.4         17.0           7.0   \n",
       "2            1      3          5          31.4         18.0           6.0   \n",
       "3            1     12         14          36.0          0.0           9.0   \n",
       "4            1      1          5          32.0         25.0           7.0   \n",
       "\n",
       "     price  Ленинский  Орджоникидзевский  Правобережный  \n",
       "0  1780000          1                  0              0  \n",
       "1  2100000          0                  0              1  \n",
       "2  1830000          0                  0              1  \n",
       "3  1610000          0                  0              1  \n",
       "4  1750000          1                  0              0  "
      ]
     },
     "execution_count": 4,
     "metadata": {},
     "output_type": "execute_result"
    }
   ],
   "source": [
    "# Векторизируем названия районов\n",
    "district_vector = pd.get_dummies(df['district'])\n",
    "prepare_df = pd.concat([df, district_vector], axis=1).drop(columns=['district'])\n",
    "prepare_df.head()"
   ]
  },
  {
   "cell_type": "code",
   "execution_count": 5,
   "id": "59f4f54c",
   "metadata": {
    "ExecuteTime": {
     "end_time": "2023-03-04T10:45:03.013899Z",
     "start_time": "2023-03-04T10:45:02.988587Z"
    }
   },
   "outputs": [
    {
     "data": {
      "text/html": [
       "<div>\n",
       "<style scoped>\n",
       "    .dataframe tbody tr th:only-of-type {\n",
       "        vertical-align: middle;\n",
       "    }\n",
       "\n",
       "    .dataframe tbody tr th {\n",
       "        vertical-align: top;\n",
       "    }\n",
       "\n",
       "    .dataframe thead th {\n",
       "        text-align: right;\n",
       "    }\n",
       "</style>\n",
       "<table border=\"1\" class=\"dataframe\">\n",
       "  <thead>\n",
       "    <tr style=\"text-align: right;\">\n",
       "      <th></th>\n",
       "      <th>room_number</th>\n",
       "      <th>floor</th>\n",
       "      <th>max_floor</th>\n",
       "      <th>general_area</th>\n",
       "      <th>living_area</th>\n",
       "      <th>kitchen_area</th>\n",
       "      <th>price</th>\n",
       "      <th>Ленинский</th>\n",
       "      <th>Орджоникидзевский</th>\n",
       "      <th>Правобережный</th>\n",
       "      <th>floor_to_max</th>\n",
       "    </tr>\n",
       "  </thead>\n",
       "  <tbody>\n",
       "    <tr>\n",
       "      <th>0</th>\n",
       "      <td>1</td>\n",
       "      <td>3</td>\n",
       "      <td>5</td>\n",
       "      <td>30.0</td>\n",
       "      <td>18.0</td>\n",
       "      <td>6.0</td>\n",
       "      <td>1780000</td>\n",
       "      <td>1</td>\n",
       "      <td>0</td>\n",
       "      <td>0</td>\n",
       "      <td>2</td>\n",
       "    </tr>\n",
       "    <tr>\n",
       "      <th>1</th>\n",
       "      <td>1</td>\n",
       "      <td>3</td>\n",
       "      <td>5</td>\n",
       "      <td>31.4</td>\n",
       "      <td>17.0</td>\n",
       "      <td>7.0</td>\n",
       "      <td>2100000</td>\n",
       "      <td>0</td>\n",
       "      <td>0</td>\n",
       "      <td>1</td>\n",
       "      <td>2</td>\n",
       "    </tr>\n",
       "    <tr>\n",
       "      <th>2</th>\n",
       "      <td>1</td>\n",
       "      <td>3</td>\n",
       "      <td>5</td>\n",
       "      <td>31.4</td>\n",
       "      <td>18.0</td>\n",
       "      <td>6.0</td>\n",
       "      <td>1830000</td>\n",
       "      <td>0</td>\n",
       "      <td>0</td>\n",
       "      <td>1</td>\n",
       "      <td>2</td>\n",
       "    </tr>\n",
       "    <tr>\n",
       "      <th>3</th>\n",
       "      <td>1</td>\n",
       "      <td>12</td>\n",
       "      <td>14</td>\n",
       "      <td>36.0</td>\n",
       "      <td>0.0</td>\n",
       "      <td>9.0</td>\n",
       "      <td>1610000</td>\n",
       "      <td>0</td>\n",
       "      <td>0</td>\n",
       "      <td>1</td>\n",
       "      <td>2</td>\n",
       "    </tr>\n",
       "    <tr>\n",
       "      <th>4</th>\n",
       "      <td>1</td>\n",
       "      <td>1</td>\n",
       "      <td>5</td>\n",
       "      <td>32.0</td>\n",
       "      <td>25.0</td>\n",
       "      <td>7.0</td>\n",
       "      <td>1750000</td>\n",
       "      <td>1</td>\n",
       "      <td>0</td>\n",
       "      <td>0</td>\n",
       "      <td>4</td>\n",
       "    </tr>\n",
       "  </tbody>\n",
       "</table>\n",
       "</div>"
      ],
      "text/plain": [
       "   room_number  floor  max_floor  general_area  living_area  kitchen_area  \\\n",
       "0            1      3          5          30.0         18.0           6.0   \n",
       "1            1      3          5          31.4         17.0           7.0   \n",
       "2            1      3          5          31.4         18.0           6.0   \n",
       "3            1     12         14          36.0          0.0           9.0   \n",
       "4            1      1          5          32.0         25.0           7.0   \n",
       "\n",
       "     price  Ленинский  Орджоникидзевский  Правобережный  floor_to_max  \n",
       "0  1780000          1                  0              0             2  \n",
       "1  2100000          0                  0              1             2  \n",
       "2  1830000          0                  0              1             2  \n",
       "3  1610000          0                  0              1             2  \n",
       "4  1750000          1                  0              0             4  "
      ]
     },
     "execution_count": 5,
     "metadata": {},
     "output_type": "execute_result"
    }
   ],
   "source": [
    "# Создаем столбец, который будет отвечать за разность между этажом и максимальным этажом\n",
    "prepare_df['floor_to_max'] = prepare_df['max_floor'] - prepare_df['floor']\n",
    "prepare_df.head()"
   ]
  },
  {
   "cell_type": "code",
   "execution_count": 7,
   "id": "1ca9520e",
   "metadata": {
    "ExecuteTime": {
     "end_time": "2023-03-04T10:46:36.038586Z",
     "start_time": "2023-03-04T10:46:36.019069Z"
    }
   },
   "outputs": [],
   "source": [
    "# Разделяем данные на матрицу признаков и таргеты\n",
    "X = prepare_df[['room_number', 'floor', 'general_area', 'living_area', 'kitchen_area', 'Ленинский', 'Орджоникидзевский', 'Правобережный', 'floor_to_max']]\n",
    "y = prepare_df['price']"
   ]
  },
  {
   "cell_type": "code",
   "execution_count": 8,
   "id": "00607b46",
   "metadata": {
    "ExecuteTime": {
     "end_time": "2023-03-04T10:47:58.113361Z",
     "start_time": "2023-03-04T10:47:58.102688Z"
    }
   },
   "outputs": [],
   "source": [
    "# Разделяем данные на обучающие и тестовые\n",
    "x_train, x_test, y_train, y_test = train_test_split(X, y)"
   ]
  },
  {
   "cell_type": "code",
   "execution_count": 9,
   "id": "b407fb2c",
   "metadata": {
    "ExecuteTime": {
     "end_time": "2023-03-04T10:49:08.365810Z",
     "start_time": "2023-03-04T10:49:08.347160Z"
    }
   },
   "outputs": [],
   "source": [
    "transformer = StandardScaler()\n",
    "transformer.fit(x_train)\n",
    "x_train_trans = transformer.transform(x_train)\n",
    "x_test_trans = transformer.transform(x_test)"
   ]
  },
  {
   "cell_type": "markdown",
   "id": "f98468bc",
   "metadata": {
    "ExecuteTime": {
     "end_time": "2023-03-04T10:49:29.213279Z",
     "start_time": "2023-03-04T10:49:29.210655Z"
    }
   },
   "source": [
    "# Выбор модели\n",
    "\n",
    "Выбирать будем между понятными и эффективными моделями: Random Forest, Gradient Boosting, Ridge, SGDRegressor\n",
    "\n",
    "Пока гиперпараметры подбирать не будем, сделаем это позже"
   ]
  },
  {
   "cell_type": "markdown",
   "id": "47f258b4",
   "metadata": {},
   "source": [
    "## Выбор лучшего типа модели"
   ]
  },
  {
   "cell_type": "code",
   "execution_count": 10,
   "id": "94386354",
   "metadata": {
    "ExecuteTime": {
     "end_time": "2023-03-04T11:00:59.036546Z",
     "start_time": "2023-03-04T11:00:59.031383Z"
    }
   },
   "outputs": [],
   "source": [
    "models = {\n",
    "    'Random Forest': RandomForestRegressor(),\n",
    "    'Gradient Boosting': GradientBoostingRegressor(),\n",
    "    'Ridge': Ridge(),\n",
    "    'SGD': SGDRegressor()\n",
    "}"
   ]
  },
  {
   "cell_type": "code",
   "execution_count": 12,
   "id": "a8d46e9f",
   "metadata": {
    "ExecuteTime": {
     "end_time": "2023-03-04T11:01:05.609860Z",
     "start_time": "2023-03-04T11:01:00.115374Z"
    }
   },
   "outputs": [
    {
     "data": {
      "text/html": [
       "<div>\n",
       "<style scoped>\n",
       "    .dataframe tbody tr th:only-of-type {\n",
       "        vertical-align: middle;\n",
       "    }\n",
       "\n",
       "    .dataframe tbody tr th {\n",
       "        vertical-align: top;\n",
       "    }\n",
       "\n",
       "    .dataframe thead th {\n",
       "        text-align: right;\n",
       "    }\n",
       "</style>\n",
       "<table border=\"1\" class=\"dataframe\">\n",
       "  <thead>\n",
       "    <tr style=\"text-align: right;\">\n",
       "      <th></th>\n",
       "      <th>model_name</th>\n",
       "      <th>RMSE</th>\n",
       "      <th>MAE</th>\n",
       "      <th>MAPE</th>\n",
       "    </tr>\n",
       "  </thead>\n",
       "  <tbody>\n",
       "    <tr>\n",
       "      <th>0</th>\n",
       "      <td>Random Forest</td>\n",
       "      <td>488698.416314</td>\n",
       "      <td>259525.049069</td>\n",
       "      <td>0.118906</td>\n",
       "    </tr>\n",
       "    <tr>\n",
       "      <th>1</th>\n",
       "      <td>Gradient Boosting</td>\n",
       "      <td>527419.906545</td>\n",
       "      <td>327466.851904</td>\n",
       "      <td>0.150090</td>\n",
       "    </tr>\n",
       "    <tr>\n",
       "      <th>2</th>\n",
       "      <td>Ridge</td>\n",
       "      <td>587626.232136</td>\n",
       "      <td>401609.049702</td>\n",
       "      <td>0.183637</td>\n",
       "    </tr>\n",
       "    <tr>\n",
       "      <th>3</th>\n",
       "      <td>SGD</td>\n",
       "      <td>587397.191648</td>\n",
       "      <td>400659.372648</td>\n",
       "      <td>0.183715</td>\n",
       "    </tr>\n",
       "  </tbody>\n",
       "</table>\n",
       "</div>"
      ],
      "text/plain": [
       "          model_name           RMSE            MAE      MAPE\n",
       "0      Random Forest  488698.416314  259525.049069  0.118906\n",
       "1  Gradient Boosting  527419.906545  327466.851904  0.150090\n",
       "2              Ridge  587626.232136  401609.049702  0.183637\n",
       "3                SGD  587397.191648  400659.372648  0.183715"
      ]
     },
     "execution_count": 12,
     "metadata": {},
     "output_type": "execute_result"
    }
   ],
   "source": [
    "metrics_df = pd.DataFrame(columns=['model_name', 'RMSE', 'MAE', 'MAPE'])\n",
    "\n",
    "for i, model_name in enumerate(models):\n",
    "    item = {\n",
    "        'model_name': model_name\n",
    "    }\n",
    "    models[model_name].fit(x_train_trans, y_train)\n",
    "    y_predict = models[model_name].predict(x_test_trans)\n",
    "    item['RMSE'] = mean_squared_error(y_test, y_predict) ** 0.5\n",
    "    item['MAE'] = mean_absolute_error(y_test, y_predict)\n",
    "    item['MAPE'] = mean_absolute_percentage_error(y_test, y_predict)\n",
    "    item_df = pd.DataFrame([item], index=[i])\n",
    "    metrics_df = pd.concat([metrics_df, item_df])\n",
    "\n",
    "metrics_df"
   ]
  },
  {
   "cell_type": "markdown",
   "id": "da406968",
   "metadata": {},
   "source": [
    "## Подбор гиперпараметров"
   ]
  },
  {
   "cell_type": "code",
   "execution_count": 13,
   "id": "030a8359",
   "metadata": {
    "ExecuteTime": {
     "end_time": "2023-03-04T12:12:31.458266Z",
     "start_time": "2023-03-04T12:08:54.369181Z"
    }
   },
   "outputs": [
    {
     "data": {
      "text/html": [
       "<style>#sk-container-id-1 {color: black;background-color: white;}#sk-container-id-1 pre{padding: 0;}#sk-container-id-1 div.sk-toggleable {background-color: white;}#sk-container-id-1 label.sk-toggleable__label {cursor: pointer;display: block;width: 100%;margin-bottom: 0;padding: 0.3em;box-sizing: border-box;text-align: center;}#sk-container-id-1 label.sk-toggleable__label-arrow:before {content: \"▸\";float: left;margin-right: 0.25em;color: #696969;}#sk-container-id-1 label.sk-toggleable__label-arrow:hover:before {color: black;}#sk-container-id-1 div.sk-estimator:hover label.sk-toggleable__label-arrow:before {color: black;}#sk-container-id-1 div.sk-toggleable__content {max-height: 0;max-width: 0;overflow: hidden;text-align: left;background-color: #f0f8ff;}#sk-container-id-1 div.sk-toggleable__content pre {margin: 0.2em;color: black;border-radius: 0.25em;background-color: #f0f8ff;}#sk-container-id-1 input.sk-toggleable__control:checked~div.sk-toggleable__content {max-height: 200px;max-width: 100%;overflow: auto;}#sk-container-id-1 input.sk-toggleable__control:checked~label.sk-toggleable__label-arrow:before {content: \"▾\";}#sk-container-id-1 div.sk-estimator input.sk-toggleable__control:checked~label.sk-toggleable__label {background-color: #d4ebff;}#sk-container-id-1 div.sk-label input.sk-toggleable__control:checked~label.sk-toggleable__label {background-color: #d4ebff;}#sk-container-id-1 input.sk-hidden--visually {border: 0;clip: rect(1px 1px 1px 1px);clip: rect(1px, 1px, 1px, 1px);height: 1px;margin: -1px;overflow: hidden;padding: 0;position: absolute;width: 1px;}#sk-container-id-1 div.sk-estimator {font-family: monospace;background-color: #f0f8ff;border: 1px dotted black;border-radius: 0.25em;box-sizing: border-box;margin-bottom: 0.5em;}#sk-container-id-1 div.sk-estimator:hover {background-color: #d4ebff;}#sk-container-id-1 div.sk-parallel-item::after {content: \"\";width: 100%;border-bottom: 1px solid gray;flex-grow: 1;}#sk-container-id-1 div.sk-label:hover label.sk-toggleable__label {background-color: #d4ebff;}#sk-container-id-1 div.sk-serial::before {content: \"\";position: absolute;border-left: 1px solid gray;box-sizing: border-box;top: 0;bottom: 0;left: 50%;z-index: 0;}#sk-container-id-1 div.sk-serial {display: flex;flex-direction: column;align-items: center;background-color: white;padding-right: 0.2em;padding-left: 0.2em;position: relative;}#sk-container-id-1 div.sk-item {position: relative;z-index: 1;}#sk-container-id-1 div.sk-parallel {display: flex;align-items: stretch;justify-content: center;background-color: white;position: relative;}#sk-container-id-1 div.sk-item::before, #sk-container-id-1 div.sk-parallel-item::before {content: \"\";position: absolute;border-left: 1px solid gray;box-sizing: border-box;top: 0;bottom: 0;left: 50%;z-index: -1;}#sk-container-id-1 div.sk-parallel-item {display: flex;flex-direction: column;z-index: 1;position: relative;background-color: white;}#sk-container-id-1 div.sk-parallel-item:first-child::after {align-self: flex-end;width: 50%;}#sk-container-id-1 div.sk-parallel-item:last-child::after {align-self: flex-start;width: 50%;}#sk-container-id-1 div.sk-parallel-item:only-child::after {width: 0;}#sk-container-id-1 div.sk-dashed-wrapped {border: 1px dashed gray;margin: 0 0.4em 0.5em 0.4em;box-sizing: border-box;padding-bottom: 0.4em;background-color: white;}#sk-container-id-1 div.sk-label label {font-family: monospace;font-weight: bold;display: inline-block;line-height: 1.2em;}#sk-container-id-1 div.sk-label-container {text-align: center;}#sk-container-id-1 div.sk-container {/* jupyter's `normalize.less` sets `[hidden] { display: none; }` but bootstrap.min.css set `[hidden] { display: none !important; }` so we also need the `!important` here to be able to override the default hidden behavior on the sphinx rendered scikit-learn.org. See: https://github.com/scikit-learn/scikit-learn/issues/21755 */display: inline-block !important;position: relative;}#sk-container-id-1 div.sk-text-repr-fallback {display: none;}</style><div id=\"sk-container-id-1\" class=\"sk-top-container\"><div class=\"sk-text-repr-fallback\"><pre>GridSearchCV(estimator=RandomForestRegressor(),\n",
       "             param_grid={&#x27;max_depth&#x27;: [10, 20, 30, 40, 50],\n",
       "                         &#x27;min_samples_leaf&#x27;: [2, 5, 8],\n",
       "                         &#x27;min_samples_split&#x27;: [2, 5, 8],\n",
       "                         &#x27;n_estimators&#x27;: [100, 150, 200]})</pre><b>In a Jupyter environment, please rerun this cell to show the HTML representation or trust the notebook. <br />On GitHub, the HTML representation is unable to render, please try loading this page with nbviewer.org.</b></div><div class=\"sk-container\" hidden><div class=\"sk-item sk-dashed-wrapped\"><div class=\"sk-label-container\"><div class=\"sk-label sk-toggleable\"><input class=\"sk-toggleable__control sk-hidden--visually\" id=\"sk-estimator-id-1\" type=\"checkbox\" ><label for=\"sk-estimator-id-1\" class=\"sk-toggleable__label sk-toggleable__label-arrow\">GridSearchCV</label><div class=\"sk-toggleable__content\"><pre>GridSearchCV(estimator=RandomForestRegressor(),\n",
       "             param_grid={&#x27;max_depth&#x27;: [10, 20, 30, 40, 50],\n",
       "                         &#x27;min_samples_leaf&#x27;: [2, 5, 8],\n",
       "                         &#x27;min_samples_split&#x27;: [2, 5, 8],\n",
       "                         &#x27;n_estimators&#x27;: [100, 150, 200]})</pre></div></div></div><div class=\"sk-parallel\"><div class=\"sk-parallel-item\"><div class=\"sk-item\"><div class=\"sk-label-container\"><div class=\"sk-label sk-toggleable\"><input class=\"sk-toggleable__control sk-hidden--visually\" id=\"sk-estimator-id-2\" type=\"checkbox\" ><label for=\"sk-estimator-id-2\" class=\"sk-toggleable__label sk-toggleable__label-arrow\">estimator: RandomForestRegressor</label><div class=\"sk-toggleable__content\"><pre>RandomForestRegressor()</pre></div></div></div><div class=\"sk-serial\"><div class=\"sk-item\"><div class=\"sk-estimator sk-toggleable\"><input class=\"sk-toggleable__control sk-hidden--visually\" id=\"sk-estimator-id-3\" type=\"checkbox\" ><label for=\"sk-estimator-id-3\" class=\"sk-toggleable__label sk-toggleable__label-arrow\">RandomForestRegressor</label><div class=\"sk-toggleable__content\"><pre>RandomForestRegressor()</pre></div></div></div></div></div></div></div></div></div></div>"
      ],
      "text/plain": [
       "GridSearchCV(estimator=RandomForestRegressor(),\n",
       "             param_grid={'max_depth': [10, 20, 30, 40, 50],\n",
       "                         'min_samples_leaf': [2, 5, 8],\n",
       "                         'min_samples_split': [2, 5, 8],\n",
       "                         'n_estimators': [100, 150, 200]})"
      ]
     },
     "execution_count": 13,
     "metadata": {},
     "output_type": "execute_result"
    }
   ],
   "source": [
    "param_grid = {\n",
    "    'n_estimators': list(range(100, 201, 50)),\n",
    "    'max_depth': list(range(10, 51, 10)),\n",
    "    'min_samples_split': list(range(2, 11, 3)),\n",
    "    'min_samples_leaf': list(range(2, 11, 3)),\n",
    "}\n",
    "\n",
    "model = RandomForestRegressor()\n",
    "grid_search = GridSearchCV(estimator=model, param_grid=param_grid)\n",
    "grid_search.fit(x_train_trans, y_train)"
   ]
  },
  {
   "cell_type": "code",
   "execution_count": 14,
   "id": "4580ca61",
   "metadata": {
    "ExecuteTime": {
     "end_time": "2023-03-04T12:16:55.306354Z",
     "start_time": "2023-03-04T12:16:55.014734Z"
    }
   },
   "outputs": [
    {
     "name": "stdout",
     "output_type": "stream",
     "text": [
      "RMSE: 485519.77906405285\n",
      "MAE: 269566.99913819757\n",
      "MAPE: 0.12909272677362632\n"
     ]
    }
   ],
   "source": [
    "# Обучаем модель с лучшими параметрами и смотрим на качество\n",
    "model = RandomForestRegressor(**grid_search.best_params_)\n",
    "model.fit(x_train_trans, y_train)\n",
    "y_predict = model.predict(x_test_trans)\n",
    "print(f'RMSE: {mean_squared_error(y_test, y_predict) ** 0.5}')\n",
    "print(f'MAE: {mean_absolute_error(y_test, y_predict)}')\n",
    "print(f'MAPE: {mean_absolute_percentage_error(y_test, y_predict)}')"
   ]
  },
  {
   "cell_type": "markdown",
   "id": "ca3477f3",
   "metadata": {
    "ExecuteTime": {
     "end_time": "2023-03-04T12:18:12.808891Z",
     "start_time": "2023-03-04T12:18:12.796214Z"
    }
   },
   "source": [
    "**Промежуточный вывод:** видно, что качество от перебора параметров не улучшилось, поэтому будем использовать базовые настройки модели"
   ]
  },
  {
   "cell_type": "code",
   "execution_count": null,
   "id": "27534c4b",
   "metadata": {},
   "outputs": [],
   "source": []
  }
 ],
 "metadata": {
  "kernelspec": {
   "display_name": "Python 3",
   "language": "python",
   "name": "python3"
  },
  "language_info": {
   "codemirror_mode": {
    "name": "ipython",
    "version": 3
   },
   "file_extension": ".py",
   "mimetype": "text/x-python",
   "name": "python",
   "nbconvert_exporter": "python",
   "pygments_lexer": "ipython3",
   "version": "3.11.2"
  },
  "toc": {
   "base_numbering": 1,
   "nav_menu": {},
   "number_sections": true,
   "sideBar": true,
   "skip_h1_title": false,
   "title_cell": "Table of Contents",
   "title_sidebar": "Contents",
   "toc_cell": false,
   "toc_position": {},
   "toc_section_display": true,
   "toc_window_display": false
  }
 },
 "nbformat": 4,
 "nbformat_minor": 5
}
